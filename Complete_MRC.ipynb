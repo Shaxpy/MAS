{
 "cells": [
  {
   "cell_type": "code",
   "execution_count": 3,
   "metadata": {},
   "outputs": [
    {
     "data": {
      "text/plain": [
       "'\\nFrames\\nMatrices, Vector Norms, Eigenvectors and Eigenvalues\\nMatrix Decompositions (SVD)\\nSingular Value Decomposition Applications\\nJacobians\\nODE I\\nODE II\\nBasics of probability\\nBayesian reasoning\\nRandom variables\\nJoint random variables + covariance\\n'"
      ]
     },
     "execution_count": 3,
     "metadata": {},
     "output_type": "execute_result"
    }
   ],
   "source": [
    "'''\n",
    "Frames\n",
    "Matrices, Vector Norms, Eigenvectors and Eigenvalues\n",
    "Matrix Decompositions (SVD)\n",
    "Singular Value Decomposition Applications\n",
    "Jacobians\n",
    "ODE I\n",
    "ODE II\n",
    "Basics of probability\n",
    "Bayesian reasoning\n",
    "Random variables\n",
    "Joint random variables + covariance\n",
    "'''\n"
   ]
  },
  {
   "cell_type": "code",
   "execution_count": 10,
   "metadata": {},
   "outputs": [
    {
     "name": "stdout",
     "output_type": "stream",
     "text": [
      "[[ 0.8660254 -0.5        0.         4.3      ]\n",
      " [ 0.5        0.8660254  0.         5.1      ]\n",
      " [ 0.         0.         1.         0.       ]\n",
      " [ 0.         0.         0.         1.       ]]\n"
     ]
    }
   ],
   "source": [
    "import numpy as np\n",
    "cos=np.cos\n",
    "sin=np.sin\n",
    "def rx(theta):\n",
    "    return np.array(([1,0,0],[0,cos(theta),-sin(theta)],[0,sin(theta),cos(theta)]))\n",
    "\n",
    "def ry(theta):\n",
    "    return np.array(([cos(theta),0,sin(theta)],[0,1,0],[-sin(theta),0,cos(theta)]))\n",
    "\n",
    "def rz(theta):\n",
    "    return np.array(([cos(theta),-sin(theta),0],[sin(theta),cos(theta),0],[0,0,1]))\n",
    "\n",
    "def homo_trans(r,t):\n",
    "    r=np.deg2rad(r)\n",
    "    rot_matrix=rz(r[2])@ry(r[1])@rx(r[0])\n",
    "    top=np.hstack((rot_matrix,t[np.newaxis].T))\n",
    "    # add[0, 0, 0, 1] at the bottom to make it 4x4\n",
    "    trans=np.vstack((top,np.array([0,0,0,1])))\n",
    "    return trans\n",
    "\n",
    "twr=homo_trans(np.array([0.0,0.0,30.]),np.array([4.3,5.1,0.]))\n",
    "print(twr)"
   ]
  },
  {
   "cell_type": "code",
   "execution_count": 17,
   "metadata": {},
   "outputs": [
    {
     "name": "stdout",
     "output_type": "stream",
     "text": [
      "[-0.70710678  1.22474487  1.        ]\n",
      "[-0.70710678  1.22474487  1.        ]\n"
     ]
    }
   ],
   "source": [
    "# GIMBAL LOCK\n",
    "alpha1 = np.pi/6\n",
    "beta1 = -np.pi/2\n",
    "gamma1 = -np.pi/4\n",
    "\n",
    "alpha2 = -np.pi/4\n",
    "beta2 = -np.pi/2\n",
    "gamma2 = np.pi/6\n",
    "p=np.array([1.,1.,1])\n",
    "p_a = rz(alpha1) @ ry(beta1) @ rx(gamma1).dot(p)\n",
    "p_b = rz(alpha2) @ ry(beta2) @ rx(gamma2).dot(p)\n",
    "print(p_a)\n",
    "print(p_b)"
   ]
  },
  {
   "cell_type": "code",
   "execution_count": null,
   "metadata": {},
   "outputs": [],
   "source": [
    "# jacobians\n",
    "\n"
   ]
  }
 ],
 "metadata": {
  "kernelspec": {
   "display_name": "Python 3",
   "language": "python",
   "name": "python3"
  },
  "language_info": {
   "codemirror_mode": {
    "name": "ipython",
    "version": 3
   },
   "file_extension": ".py",
   "mimetype": "text/x-python",
   "name": "python",
   "nbconvert_exporter": "python",
   "pygments_lexer": "ipython3",
   "version": "3.8.10"
  },
  "orig_nbformat": 4
 },
 "nbformat": 4,
 "nbformat_minor": 2
}
